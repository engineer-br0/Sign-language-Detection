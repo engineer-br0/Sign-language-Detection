{
  "nbformat": 4,
  "nbformat_minor": 0,
  "metadata": {
    "colab": {
      "provenance": [],
      "mount_file_id": "1IuohDk6E5n3vkEiSa_QU45SLcemwll7e",
      "authorship_tag": "ABX9TyMynX9AunoJj3HJy5ah3YOS",
      "include_colab_link": true
    },
    "kernelspec": {
      "name": "python3",
      "display_name": "Python 3"
    },
    "language_info": {
      "name": "python"
    }
  },
  "cells": [
    {
      "cell_type": "markdown",
      "metadata": {
        "id": "view-in-github",
        "colab_type": "text"
      },
      "source": [
        "<a href=\"https://colab.research.google.com/github/engineer-br0/Sign-language-Detection/blob/main/book1.ipynb\" target=\"_parent\"><img src=\"https://colab.research.google.com/assets/colab-badge.svg\" alt=\"Open In Colab\"/></a>"
      ]
    },
    {
      "cell_type": "code",
      "execution_count": null,
      "metadata": {
        "colab": {
          "base_uri": "https://localhost:8080/"
        },
        "id": "qYeVTZuzKqzF",
        "outputId": "c5d805c0-2662-4866-ac2d-f0ccdc3fbc51"
      },
      "outputs": [
        {
          "output_type": "stream",
          "name": "stdout",
          "text": [
            "Checkpoint 1\n",
            "Checkpoint 2\n",
            "Checkpoint 3\n",
            "TensorFlow version: 2.15.0\n",
            "Checkpoint 4\n"
          ]
        }
      ],
      "source": [
        "import os\n",
        "print(\"Checkpoint 1\")\n",
        "import cv2\n",
        "print(\"Checkpoint 2\")\n",
        "import numpy as np\n",
        "print(\"Checkpoint 3\")\n",
        "import tensorflow as tf\n",
        "\n",
        "print(\"TensorFlow version:\", tf.__version__)\n",
        "from tensorflow.keras.utils import to_categorical  # Import to_categorical from tensorflow.keras.utils\n",
        "from sklearn.model_selection import train_test_split\n",
        "print(\"Checkpoint 4\")"
      ]
    },
    {
      "cell_type": "code",
      "source": [
        "data_path_test = \"/content/drive/MyDrive/ColabNotebooks/asl_alphabet_test/asl_alphabet_test\"\n",
        "data_path_train = \"/content/drive/MyDrive/ColabNotebooks/asl_alphabet_train\"\n",
        "\n",
        "# Get the classes (letters) from the folder names\n",
        "classes_train = sorted(os.listdir(data_path_train))\n",
        "classes_test = sorted(os.listdir(data_path_test))\n",
        "print(\"classes_train\", classes_train)\n",
        "print(\"classes_test\",classes_test)\n",
        "\n",
        "#print(os.listdir(data_path_train))\n",
        "\n",
        "# Combine train and test classes (assuming they are the same)\n",
        "classes = classes_train\n",
        "#print(\"classes\", enumerate(classes))\n",
        "\n",
        "# Initialize lists to store images and labels\n",
        "images = []\n",
        "labels = []\n",
        "\n",
        "# Load training data\n",
        "#print(os.path.join(data_path_train, class_name))\n",
        "for label, class_name in enumerate(classes):\n",
        "    #print(\"label, class_name\", label, class_name)\n",
        "    class_path = os.path.join(data_path_train, class_name)\n",
        "    #print(class_path)\n",
        "    for image_name in os.listdir(class_path):\n",
        "        image_path = os.path.join(class_path, image_name)\n",
        "        image = cv2.imread(image_path, cv2.IMREAD_GRAYSCALE)\n",
        "        if image is not None:\n",
        "        # Resize the image\n",
        "          image = cv2.resize(image, (64, 64))\n",
        "          images.append(image)\n",
        "          labels.append(label)\n",
        "        else:\n",
        "          print(\"Error: Empty or invalid image.\")\n",
        "\n",
        "# Convert lists to NumPy arrays\n",
        "# print(images[0])\n",
        "images_train = np.array(images) / 255.0\n",
        "labels_train = to_categorical(labels, num_classes=len(classes))\n",
        "print(\"labels_train\", labels_train)\n",
        "# Load test data\n",
        "images = []  # Clear the list for test data\n",
        "labels = []  # Clear the list for test data\n",
        "\n",
        "for label, class_name in enumerate(classes):\n",
        "    print(label, class_name)\n",
        "    #class_path = os.path.join(data_path_test, class_name)\n",
        "    class_path = os.path.join(data_path_test)\n",
        "    print(\"class_path\",class_path)\n",
        "    #####\n",
        "    image_name = classes_test[label]\n",
        "    print(\"image_name\", image_name)\n",
        "    image_path = os.path.join(class_path, image_name)\n",
        "    print(\"image_path\", image_path)\n",
        "    image = cv2.imread(image_path, cv2.IMREAD_GRAYSCALE)\n",
        "    if image is not None:\n",
        "    # Resize the image\n",
        "     image = cv2.resize(image, (64, 64))\n",
        "     images.append(image)\n",
        "     labels.append(label)\n",
        "     print(\"labelis\", label)\n",
        "    else:\n",
        "      print(\"Error: Empty or invalid image.\")\n",
        "        #image = cv2.resize(image, (64, 64))\n",
        "    # for image_name in os.listdir(class_path):\n",
        "    #     image_path = os.path.join(class_path, image_name)\n",
        "    #     print(\"image_path\", image_path)\n",
        "    #     image = cv2.imread(image_path, cv2.IMREAD_GRAYSCALE)\n",
        "    #     if image is not None:\n",
        "    #     # Resize the image\n",
        "    #       image = cv2.resize(image, (64, 64))\n",
        "    #       images.append(image)\n",
        "    #       labels.append(label)\n",
        "    #     else:\n",
        "    #       print(\"Error: Empty or invalid image.\")\n",
        "    #     #image = cv2.resize(image, (64, 64))\n",
        "\n",
        "\n",
        "# Convert lists to NumPy arrays\n",
        "images_test = np.array(images) / 255.0\n",
        "labels_test = to_categorical(labels, num_classes=len(classes))\n",
        "\n",
        "# Split the data into training and testing sets\n",
        "X_train, X_test, y_train, y_test = train_test_split(images_train, labels_train, test_size=0.2, random_state=42)\n"
      ],
      "metadata": {
        "id": "qA61T6sPK-p2",
        "colab": {
          "base_uri": "https://localhost:8080/"
        },
        "outputId": "564be9b5-995f-4fb9-bfdb-68ea74c8bfa0"
      },
      "execution_count": null,
      "outputs": [
        {
          "output_type": "stream",
          "name": "stdout",
          "text": [
            "classes_train ['A', 'B', 'C', 'D', 'E', 'F', 'G', 'H', 'I', 'J', 'K', 'L', 'M', 'N', 'O', 'P', 'Q', 'R', 'S', 'T', 'U', 'V', 'W', 'X', 'Y', 'Z', 'del', 'nothing', 'space']\n",
            "classes_test ['A_test.jpg', 'B_test.jpg', 'C_test.jpg', 'D_test.jpg', 'E_test.jpg', 'F_test.jpg', 'G_test.jpg', 'H_test.jpg', 'I_test.jpg', 'J_test.jpg', 'K_test.jpg', 'L_test.jpg', 'M_test.jpg', 'N_test.jpg', 'O_test.jpg', 'P_test.jpg', 'Q_test.jpg', 'R_test.jpg', 'S_test.jpg', 'T_test.jpg', 'U_test.jpg', 'V_test.jpg', 'W_test.jpg', 'X_test.jpg', 'Y_test.jpg', 'Z_test.jpg', 'del_test.jpg', 'nothing_test.jpg', 'space_test.jpg']\n",
            "labels_train [[1. 0. 0. ... 0. 0. 0.]\n",
            " [1. 0. 0. ... 0. 0. 0.]\n",
            " [1. 0. 0. ... 0. 0. 0.]\n",
            " ...\n",
            " [0. 0. 0. ... 0. 0. 1.]\n",
            " [0. 0. 0. ... 0. 0. 1.]\n",
            " [0. 0. 0. ... 0. 0. 1.]]\n",
            "0 A\n",
            "class_path /content/drive/MyDrive/ColabNotebooks/asl_alphabet_test/asl_alphabet_test\n",
            "image_name A_test.jpg\n",
            "image_path /content/drive/MyDrive/ColabNotebooks/asl_alphabet_test/asl_alphabet_test/A_test.jpg\n",
            "labelis 0\n",
            "1 B\n",
            "class_path /content/drive/MyDrive/ColabNotebooks/asl_alphabet_test/asl_alphabet_test\n",
            "image_name B_test.jpg\n",
            "image_path /content/drive/MyDrive/ColabNotebooks/asl_alphabet_test/asl_alphabet_test/B_test.jpg\n",
            "labelis 1\n",
            "2 C\n",
            "class_path /content/drive/MyDrive/ColabNotebooks/asl_alphabet_test/asl_alphabet_test\n",
            "image_name C_test.jpg\n",
            "image_path /content/drive/MyDrive/ColabNotebooks/asl_alphabet_test/asl_alphabet_test/C_test.jpg\n",
            "labelis 2\n",
            "3 D\n",
            "class_path /content/drive/MyDrive/ColabNotebooks/asl_alphabet_test/asl_alphabet_test\n",
            "image_name D_test.jpg\n",
            "image_path /content/drive/MyDrive/ColabNotebooks/asl_alphabet_test/asl_alphabet_test/D_test.jpg\n",
            "labelis 3\n",
            "4 E\n",
            "class_path /content/drive/MyDrive/ColabNotebooks/asl_alphabet_test/asl_alphabet_test\n",
            "image_name E_test.jpg\n",
            "image_path /content/drive/MyDrive/ColabNotebooks/asl_alphabet_test/asl_alphabet_test/E_test.jpg\n",
            "labelis 4\n",
            "5 F\n",
            "class_path /content/drive/MyDrive/ColabNotebooks/asl_alphabet_test/asl_alphabet_test\n",
            "image_name F_test.jpg\n",
            "image_path /content/drive/MyDrive/ColabNotebooks/asl_alphabet_test/asl_alphabet_test/F_test.jpg\n",
            "labelis 5\n",
            "6 G\n",
            "class_path /content/drive/MyDrive/ColabNotebooks/asl_alphabet_test/asl_alphabet_test\n",
            "image_name G_test.jpg\n",
            "image_path /content/drive/MyDrive/ColabNotebooks/asl_alphabet_test/asl_alphabet_test/G_test.jpg\n",
            "labelis 6\n",
            "7 H\n",
            "class_path /content/drive/MyDrive/ColabNotebooks/asl_alphabet_test/asl_alphabet_test\n",
            "image_name H_test.jpg\n",
            "image_path /content/drive/MyDrive/ColabNotebooks/asl_alphabet_test/asl_alphabet_test/H_test.jpg\n",
            "labelis 7\n",
            "8 I\n",
            "class_path /content/drive/MyDrive/ColabNotebooks/asl_alphabet_test/asl_alphabet_test\n",
            "image_name I_test.jpg\n",
            "image_path /content/drive/MyDrive/ColabNotebooks/asl_alphabet_test/asl_alphabet_test/I_test.jpg\n",
            "labelis 8\n",
            "9 J\n",
            "class_path /content/drive/MyDrive/ColabNotebooks/asl_alphabet_test/asl_alphabet_test\n",
            "image_name J_test.jpg\n",
            "image_path /content/drive/MyDrive/ColabNotebooks/asl_alphabet_test/asl_alphabet_test/J_test.jpg\n",
            "labelis 9\n",
            "10 K\n",
            "class_path /content/drive/MyDrive/ColabNotebooks/asl_alphabet_test/asl_alphabet_test\n",
            "image_name K_test.jpg\n",
            "image_path /content/drive/MyDrive/ColabNotebooks/asl_alphabet_test/asl_alphabet_test/K_test.jpg\n",
            "labelis 10\n",
            "11 L\n",
            "class_path /content/drive/MyDrive/ColabNotebooks/asl_alphabet_test/asl_alphabet_test\n",
            "image_name L_test.jpg\n",
            "image_path /content/drive/MyDrive/ColabNotebooks/asl_alphabet_test/asl_alphabet_test/L_test.jpg\n",
            "labelis 11\n",
            "12 M\n",
            "class_path /content/drive/MyDrive/ColabNotebooks/asl_alphabet_test/asl_alphabet_test\n",
            "image_name M_test.jpg\n",
            "image_path /content/drive/MyDrive/ColabNotebooks/asl_alphabet_test/asl_alphabet_test/M_test.jpg\n",
            "labelis 12\n",
            "13 N\n",
            "class_path /content/drive/MyDrive/ColabNotebooks/asl_alphabet_test/asl_alphabet_test\n",
            "image_name N_test.jpg\n",
            "image_path /content/drive/MyDrive/ColabNotebooks/asl_alphabet_test/asl_alphabet_test/N_test.jpg\n",
            "labelis 13\n",
            "14 O\n",
            "class_path /content/drive/MyDrive/ColabNotebooks/asl_alphabet_test/asl_alphabet_test\n",
            "image_name O_test.jpg\n",
            "image_path /content/drive/MyDrive/ColabNotebooks/asl_alphabet_test/asl_alphabet_test/O_test.jpg\n",
            "labelis 14\n",
            "15 P\n",
            "class_path /content/drive/MyDrive/ColabNotebooks/asl_alphabet_test/asl_alphabet_test\n",
            "image_name P_test.jpg\n",
            "image_path /content/drive/MyDrive/ColabNotebooks/asl_alphabet_test/asl_alphabet_test/P_test.jpg\n",
            "labelis 15\n",
            "16 Q\n",
            "class_path /content/drive/MyDrive/ColabNotebooks/asl_alphabet_test/asl_alphabet_test\n",
            "image_name Q_test.jpg\n",
            "image_path /content/drive/MyDrive/ColabNotebooks/asl_alphabet_test/asl_alphabet_test/Q_test.jpg\n",
            "labelis 16\n",
            "17 R\n",
            "class_path /content/drive/MyDrive/ColabNotebooks/asl_alphabet_test/asl_alphabet_test\n",
            "image_name R_test.jpg\n",
            "image_path /content/drive/MyDrive/ColabNotebooks/asl_alphabet_test/asl_alphabet_test/R_test.jpg\n",
            "labelis 17\n",
            "18 S\n",
            "class_path /content/drive/MyDrive/ColabNotebooks/asl_alphabet_test/asl_alphabet_test\n",
            "image_name S_test.jpg\n",
            "image_path /content/drive/MyDrive/ColabNotebooks/asl_alphabet_test/asl_alphabet_test/S_test.jpg\n",
            "labelis 18\n",
            "19 T\n",
            "class_path /content/drive/MyDrive/ColabNotebooks/asl_alphabet_test/asl_alphabet_test\n",
            "image_name T_test.jpg\n",
            "image_path /content/drive/MyDrive/ColabNotebooks/asl_alphabet_test/asl_alphabet_test/T_test.jpg\n",
            "labelis 19\n",
            "20 U\n",
            "class_path /content/drive/MyDrive/ColabNotebooks/asl_alphabet_test/asl_alphabet_test\n",
            "image_name U_test.jpg\n",
            "image_path /content/drive/MyDrive/ColabNotebooks/asl_alphabet_test/asl_alphabet_test/U_test.jpg\n",
            "labelis 20\n",
            "21 V\n",
            "class_path /content/drive/MyDrive/ColabNotebooks/asl_alphabet_test/asl_alphabet_test\n",
            "image_name V_test.jpg\n",
            "image_path /content/drive/MyDrive/ColabNotebooks/asl_alphabet_test/asl_alphabet_test/V_test.jpg\n",
            "labelis 21\n",
            "22 W\n",
            "class_path /content/drive/MyDrive/ColabNotebooks/asl_alphabet_test/asl_alphabet_test\n",
            "image_name W_test.jpg\n",
            "image_path /content/drive/MyDrive/ColabNotebooks/asl_alphabet_test/asl_alphabet_test/W_test.jpg\n",
            "labelis 22\n",
            "23 X\n",
            "class_path /content/drive/MyDrive/ColabNotebooks/asl_alphabet_test/asl_alphabet_test\n",
            "image_name X_test.jpg\n",
            "image_path /content/drive/MyDrive/ColabNotebooks/asl_alphabet_test/asl_alphabet_test/X_test.jpg\n",
            "labelis 23\n",
            "24 Y\n",
            "class_path /content/drive/MyDrive/ColabNotebooks/asl_alphabet_test/asl_alphabet_test\n",
            "image_name Y_test.jpg\n",
            "image_path /content/drive/MyDrive/ColabNotebooks/asl_alphabet_test/asl_alphabet_test/Y_test.jpg\n",
            "labelis 24\n",
            "25 Z\n",
            "class_path /content/drive/MyDrive/ColabNotebooks/asl_alphabet_test/asl_alphabet_test\n",
            "image_name Z_test.jpg\n",
            "image_path /content/drive/MyDrive/ColabNotebooks/asl_alphabet_test/asl_alphabet_test/Z_test.jpg\n",
            "labelis 25\n",
            "26 del\n",
            "class_path /content/drive/MyDrive/ColabNotebooks/asl_alphabet_test/asl_alphabet_test\n",
            "image_name del_test.jpg\n",
            "image_path /content/drive/MyDrive/ColabNotebooks/asl_alphabet_test/asl_alphabet_test/del_test.jpg\n",
            "labelis 26\n",
            "27 nothing\n",
            "class_path /content/drive/MyDrive/ColabNotebooks/asl_alphabet_test/asl_alphabet_test\n",
            "image_name nothing_test.jpg\n",
            "image_path /content/drive/MyDrive/ColabNotebooks/asl_alphabet_test/asl_alphabet_test/nothing_test.jpg\n",
            "labelis 27\n",
            "28 space\n",
            "class_path /content/drive/MyDrive/ColabNotebooks/asl_alphabet_test/asl_alphabet_test\n",
            "image_name space_test.jpg\n",
            "image_path /content/drive/MyDrive/ColabNotebooks/asl_alphabet_test/asl_alphabet_test/space_test.jpg\n",
            "labelis 28\n"
          ]
        }
      ]
    },
    {
      "cell_type": "code",
      "source": [
        "from tensorflow.keras.models import Sequential\n",
        "from tensorflow.keras.layers import Conv2D, MaxPooling2D, Flatten, Dense\n",
        "\n",
        "def build_model(num_classes):\n",
        "    model = Sequential()\n",
        "    model.add(Conv2D(32, (3, 3), input_shape=(64, 64, 1), activation='relu'))\n",
        "    model.add(MaxPooling2D(pool_size=(2, 2)))\n",
        "    model.add(Conv2D(64, (3, 3), activation='relu'))\n",
        "    model.add(MaxPooling2D(pool_size=(2, 2)))\n",
        "    model.add(Flatten())\n",
        "    model.add(Dense(128, activation='relu'))\n",
        "    model.add(Dense(num_classes, activation='softmax'))\n",
        "\n",
        "    model.compile(optimizer='adam', loss='categorical_crossentropy', metrics=['accuracy'])\n",
        "    print(\"model\", model)\n",
        "    return model"
      ],
      "metadata": {
        "id": "DR7dNHYpP54G"
      },
      "execution_count": null,
      "outputs": []
    },
    {
      "cell_type": "code",
      "source": [
        "import numpy as np\n",
        "from sklearn.model_selection import train_test_split\n",
        "# from build_model import build_model\n",
        "from tensorflow.keras.callbacks import ModelCheckpoint\n",
        "\n",
        "# Load preprocessed data\n",
        "#X_train, X_test, y_train, y_test = np.load(\"preprocessed_data.npy\")\n",
        "\n",
        "# Create and compile the model\n",
        "num_classes = len(np.unique(y_train))\n",
        "model = build_model(num_classes=len(np.unique(np.argmax(y_train, axis=1))))\n",
        "\n",
        "# Train the model\n",
        "model.fit(X_train.reshape(-1, 64, 64, 1), y_train, validation_data=(X_test.reshape(-1, 64, 64, 1), y_test), epochs=50, batch_size=100)\n",
        "# Example output layer\n",
        "\n",
        "# Save the model\n",
        "model.save(\"sign_language_detector_model.h5\")\n"
      ],
      "metadata": {
        "colab": {
          "base_uri": "https://localhost:8080/"
        },
        "id": "KBGoCqIHP_-x",
        "outputId": "cda51ab2-18f9-4071-cf55-716b6b30d2d4"
      },
      "execution_count": null,
      "outputs": [
        {
          "output_type": "stream",
          "name": "stdout",
          "text": [
            "model <keras.src.engine.sequential.Sequential object at 0x789d6f4a73a0>\n",
            "Epoch 1/10\n",
            "73/73 [==============================] - 17s 202ms/step - loss: 2.3769 - accuracy: 0.4189 - val_loss: 0.7934 - val_accuracy: 0.7715\n",
            "Epoch 2/10\n",
            "73/73 [==============================] - 14s 189ms/step - loss: 0.3457 - accuracy: 0.9166 - val_loss: 0.1829 - val_accuracy: 0.9605\n",
            "Epoch 3/10\n",
            "73/73 [==============================] - 13s 179ms/step - loss: 0.0713 - accuracy: 0.9858 - val_loss: 0.0599 - val_accuracy: 0.9897\n",
            "Epoch 4/10\n",
            "73/73 [==============================] - 13s 172ms/step - loss: 0.0225 - accuracy: 0.9974 - val_loss: 0.0228 - val_accuracy: 0.9966\n",
            "Epoch 5/10\n",
            "73/73 [==============================] - 14s 192ms/step - loss: 0.0055 - accuracy: 1.0000 - val_loss: 0.0132 - val_accuracy: 0.9966\n",
            "Epoch 6/10\n",
            "73/73 [==============================] - 16s 215ms/step - loss: 0.0028 - accuracy: 1.0000 - val_loss: 0.0082 - val_accuracy: 1.0000\n",
            "Epoch 7/10\n",
            "73/73 [==============================] - 15s 202ms/step - loss: 0.0018 - accuracy: 1.0000 - val_loss: 0.0075 - val_accuracy: 0.9983\n",
            "Epoch 8/10\n",
            "73/73 [==============================] - 14s 199ms/step - loss: 0.0013 - accuracy: 1.0000 - val_loss: 0.0074 - val_accuracy: 0.9983\n",
            "Epoch 9/10\n",
            "73/73 [==============================] - 14s 194ms/step - loss: 9.8333e-04 - accuracy: 1.0000 - val_loss: 0.0059 - val_accuracy: 0.9983\n",
            "Epoch 10/10\n",
            "73/73 [==============================] - 13s 173ms/step - loss: 7.6036e-04 - accuracy: 1.0000 - val_loss: 0.0056 - val_accuracy: 0.9983\n"
          ]
        },
        {
          "output_type": "stream",
          "name": "stderr",
          "text": [
            "/usr/local/lib/python3.10/dist-packages/keras/src/engine/training.py:3103: UserWarning: You are saving your model as an HDF5 file via `model.save()`. This file format is considered legacy. We recommend using instead the native Keras format, e.g. `model.save('my_model.keras')`.\n",
            "  saving_api.save_model(\n"
          ]
        }
      ]
    },
    {
      "cell_type": "code",
      "source": [
        "from google.colab.patches import cv2_imshow\n",
        "import cv2\n",
        "import numpy as np\n",
        "from tensorflow.keras.models import load_model\n",
        "from IPython.display import display, Javascript, Image\n",
        "from google.colab.output import eval_js\n",
        "from base64 import b64decode\n",
        "\n",
        "# Function to capture a photo using Colab's webcam snippet\n",
        "def take_photo(quality=0.8):\n",
        "    js = Javascript('''\n",
        "        async function takePhoto(quality) {\n",
        "          const div = document.createElement('div');\n",
        "          const capture = document.createElement('button');\n",
        "          capture.textContent = 'Capture';\n",
        "          div.appendChild(capture);\n",
        "\n",
        "          const video = document.createElement('video');\n",
        "          video.style.display = 'block';\n",
        "          const stream = await navigator.mediaDevices.getUserMedia({ video: true });\n",
        "\n",
        "          document.body.appendChild(div);\n",
        "          div.appendChild(video);\n",
        "          video.srcObject = stream;\n",
        "          await video.play();\n",
        "\n",
        "          // Resize the output to fit the video element.\n",
        "          google.colab.output.setIframeHeight(document.documentElement.scrollHeight, true);\n",
        "\n",
        "          // Wait for Capture to be clicked.\n",
        "          await new Promise((resolve) => capture.onclick = resolve);\n",
        "\n",
        "          const canvas = document.createElement('canvas');\n",
        "          canvas.width = video.videoWidth;\n",
        "          canvas.height = video.videoHeight;\n",
        "          canvas.getContext('2d').drawImage(video, 0, 0);\n",
        "          stream.getVideoTracks()[0].stop();\n",
        "          div.remove();\n",
        "          return canvas.toDataURL('image/jpeg', quality);\n",
        "        }\n",
        "    ''')\n",
        "    display(js)\n",
        "    data = eval_js('takePhoto({})'.format(quality))\n",
        "    binary = b64decode(data.split(',')[1])\n",
        "    image = cv2.imdecode(np.frombuffer(binary, dtype=np.uint8), -1)\n",
        "    return image\n",
        "\n",
        "# Load the trained model\n",
        "model = load_model(\"sign_language_detector_model.h5\")\n",
        "\n",
        "# Create a list of class labels\n",
        "classes = ['A', 'B', 'C', 'D', 'E', 'F', 'G', 'H', 'I', 'J', 'K', 'L', 'M', 'N', 'O', 'P', 'Q', 'R', 'S', 'T', 'U', 'V', 'W', 'X', 'Y', 'Z', 'del', 'nothing', 'space']\n",
        "\n",
        "# Display instructions\n",
        "instructions = [\n",
        "    \"Welcome to Sign Language Detector!\",\n",
        "    \"Instructions:\",\n",
        "    \"1. Place your hand in front of the camera.\",\n",
        "    \"2. Try different sign language gestures.\",\n",
        "    \"3. Press 'q' to exit the application.\"\n",
        "]\n",
        "\n",
        "for instruction in instructions:\n",
        "    print(instruction)\n",
        "\n",
        "while True:\n",
        "    # Capture a frame from the camera or a photo\n",
        "    try:\n",
        "        frame = take_photo()\n",
        "    except Exception as e:\n",
        "        print(f\"Error capturing photo: {e}\")\n",
        "        break\n",
        "\n",
        "    # Preprocess the frame (resize, convert to grayscale, normalize)\n",
        "    # image = cv2.imread(image_path, cv2.IMREAD_GRAYSCALE)\n",
        "    #     if image is not None:\n",
        "    #     # Resize the image\n",
        "    #       image = cv2.resize(image, (64, 64))\n",
        "    #       images.append(image)\n",
        "    #       labels.append(label)\n",
        "    frame = cv2.resize(frame, (64, 64))\n",
        "    gray_frame = cv2.cvtColor(frame, cv2.COLOR_BGR2GRAY)\n",
        "    normalized_frame = gray_frame / 255.0\n",
        "    input_data = normalized_frame.reshape((-1, 64, 64, 1))\n",
        "\n",
        "    # Make predictions using the model\n",
        "    predictions = model.predict(input_data)\n",
        "    predicted_class = classes[np.argmax(predictions)]\n",
        "\n",
        "    # Print raw predictions\n",
        "    print(\"Raw Predictions:\", predictions)\n",
        "\n",
        "    # Display the predicted class on the frame\n",
        "    cv2.putText(frame, f\"Predicted: {predicted_class}\", (10, 50), cv2.FONT_HERSHEY_SIMPLEX, 1, (0, 255, 0), 2, cv2.LINE_AA)\n",
        "    print(f\"Predicted: {predicted_class}\")\n",
        "    # Display instructions on the frame\n",
        "    y = 80\n",
        "    for instruction in instructions:\n",
        "        cv2.putText(frame, instruction, (10, y), cv2.FONT_HERSHEY_SIMPLEX, 0.5, (255, 255, 255), 1, cv2.LINE_AA)\n",
        "        y += 20\n",
        "\n",
        "    # Display the frame\n",
        "    cv2_imshow(frame)\n",
        "\n",
        "    # Break the loop if 'q' is pressed\n",
        "    if cv2.waitKey(1) & 0xFF == ord('q'):\n",
        "        break\n",
        "\n",
        "# Release the camera and close all OpenCV windows\n",
        "cv2.destroyAllWindows()\n"
      ],
      "metadata": {
        "colab": {
          "base_uri": "https://localhost:8080/",
          "height": 1000
        },
        "id": "zI3LUeCZyiEj",
        "outputId": "51648368-a7d4-4205-cc99-0a6e1d80999c"
      },
      "execution_count": null,
      "outputs": [
        {
          "output_type": "stream",
          "name": "stdout",
          "text": [
            "Welcome to Sign Language Detector!\n",
            "Instructions:\n",
            "1. Place your hand in front of the camera.\n",
            "2. Try different sign language gestures.\n",
            "3. Press 'q' to exit the application.\n"
          ]
        },
        {
          "output_type": "display_data",
          "data": {
            "text/plain": [
              "<IPython.core.display.Javascript object>"
            ],
            "application/javascript": [
              "\n",
              "        async function takePhoto(quality) {\n",
              "          const div = document.createElement('div');\n",
              "          const capture = document.createElement('button');\n",
              "          capture.textContent = 'Capture';\n",
              "          div.appendChild(capture);\n",
              "\n",
              "          const video = document.createElement('video');\n",
              "          video.style.display = 'block';\n",
              "          const stream = await navigator.mediaDevices.getUserMedia({ video: true });\n",
              "\n",
              "          document.body.appendChild(div);\n",
              "          div.appendChild(video);\n",
              "          video.srcObject = stream;\n",
              "          await video.play();\n",
              "\n",
              "          // Resize the output to fit the video element.\n",
              "          google.colab.output.setIframeHeight(document.documentElement.scrollHeight, true);\n",
              "\n",
              "          // Wait for Capture to be clicked.\n",
              "          await new Promise((resolve) => capture.onclick = resolve);\n",
              "\n",
              "          const canvas = document.createElement('canvas');\n",
              "          canvas.width = video.videoWidth;\n",
              "          canvas.height = video.videoHeight;\n",
              "          canvas.getContext('2d').drawImage(video, 0, 0);\n",
              "          stream.getVideoTracks()[0].stop();\n",
              "          div.remove();\n",
              "          return canvas.toDataURL('image/jpeg', quality);\n",
              "        }\n",
              "    "
            ]
          },
          "metadata": {}
        },
        {
          "output_type": "stream",
          "name": "stdout",
          "text": [
            "1/1 [==============================] - 0s 111ms/step\n",
            "Raw Predictions: [[1.6313941e-04 2.1881926e-06 3.2679873e-04 1.9409399e-06 1.1330997e-03\n",
            "  1.0154976e-04 2.6651724e-05 4.5797274e-06 1.6416008e-06 6.2123873e-10\n",
            "  1.3694821e-08 5.0792173e-03 3.5880161e-09 6.7055215e-09 9.4273090e-01\n",
            "  1.4733724e-04 4.7200191e-04 6.7998542e-08 6.9761413e-08 4.3686155e-02\n",
            "  2.8196380e-03 3.5274322e-06 9.0522067e-13 1.4069310e-07 1.2165554e-14\n",
            "  3.2266784e-03 7.2612900e-05 1.0586955e-09 2.2446893e-09]]\n",
            "Predicted: O\n"
          ]
        },
        {
          "output_type": "display_data",
          "data": {
            "text/plain": [
              "<PIL.Image.Image image mode=RGB size=64x64>"
            ],
            "image/png": "[encoded data removed]"
          },
          "metadata": {}
        },
        {
          "output_type": "display_data",
          "data": {
            "text/plain": [
              "<IPython.core.display.Javascript object>"
            ],
            "application/javascript": [
              "\n",
              "        async function takePhoto(quality) {\n",
              "          const div = document.createElement('div');\n",
              "          const capture = document.createElement('button');\n",
              "          capture.textContent = 'Capture';\n",
              "          div.appendChild(capture);\n",
              "\n",
              "          const video = document.createElement('video');\n",
              "          video.style.display = 'block';\n",
              "          const stream = await navigator.mediaDevices.getUserMedia({ video: true });\n",
              "\n",
              "          document.body.appendChild(div);\n",
              "          div.appendChild(video);\n",
              "          video.srcObject = stream;\n",
              "          await video.play();\n",
              "\n",
              "          // Resize the output to fit the video element.\n",
              "          google.colab.output.setIframeHeight(document.documentElement.scrollHeight, true);\n",
              "\n",
              "          // Wait for Capture to be clicked.\n",
              "          await new Promise((resolve) => capture.onclick = resolve);\n",
              "\n",
              "          const canvas = document.createElement('canvas');\n",
              "          canvas.width = video.videoWidth;\n",
              "          canvas.height = video.videoHeight;\n",
              "          canvas.getContext('2d').drawImage(video, 0, 0);\n",
              "          stream.getVideoTracks()[0].stop();\n",
              "          div.remove();\n",
              "          return canvas.toDataURL('image/jpeg', quality);\n",
              "        }\n",
              "    "
            ]
          },
          "metadata": {}
        },
        {
          "output_type": "stream",
          "name": "stdout",
          "text": [
            "1/1 [==============================] - 0s 27ms/step\n",
            "Raw Predictions: [[1.0422239e-02 9.8246051e-07 1.3809766e-07 8.3872372e-08 3.4394921e-05\n",
            "  2.3645215e-02 1.3673190e-02 1.9122474e-01 2.1715239e-02 7.4925392e-06\n",
            "  1.7555783e-07 4.8426271e-05 4.7263765e-10 1.9274176e-09 2.4243554e-01\n",
            "  1.5119073e-04 2.7761808e-01 3.4903402e-10 1.2423051e-12 1.3560730e-01\n",
            "  2.6812004e-02 4.9946837e-02 1.5652953e-12 4.9179466e-06 4.7897619e-12\n",
            "  6.6497787e-03 2.0677237e-06 6.8317463e-14 3.3340142e-10]]\n",
            "Predicted: Q\n"
          ]
        },
        {
          "output_type": "display_data",
          "data": {
            "text/plain": [
              "<PIL.Image.Image image mode=RGB size=64x64>"
            ],
            "image/png": "[encoded data removed]"
          },
          "metadata": {}
        },
        {
          "output_type": "display_data",
          "data": {
            "text/plain": [
              "<IPython.core.display.Javascript object>"
            ],
            "application/javascript": [
              "\n",
              "        async function takePhoto(quality) {\n",
              "          const div = document.createElement('div');\n",
              "          const capture = document.createElement('button');\n",
              "          capture.textContent = 'Capture';\n",
              "          div.appendChild(capture);\n",
              "\n",
              "          const video = document.createElement('video');\n",
              "          video.style.display = 'block';\n",
              "          const stream = await navigator.mediaDevices.getUserMedia({ video: true });\n",
              "\n",
              "          document.body.appendChild(div);\n",
              "          div.appendChild(video);\n",
              "          video.srcObject = stream;\n",
              "          await video.play();\n",
              "\n",
              "          // Resize the output to fit the video element.\n",
              "          google.colab.output.setIframeHeight(document.documentElement.scrollHeight, true);\n",
              "\n",
              "          // Wait for Capture to be clicked.\n",
              "          await new Promise((resolve) => capture.onclick = resolve);\n",
              "\n",
              "          const canvas = document.createElement('canvas');\n",
              "          canvas.width = video.videoWidth;\n",
              "          canvas.height = video.videoHeight;\n",
              "          canvas.getContext('2d').drawImage(video, 0, 0);\n",
              "          stream.getVideoTracks()[0].stop();\n",
              "          div.remove();\n",
              "          return canvas.toDataURL('image/jpeg', quality);\n",
              "        }\n",
              "    "
            ]
          },
          "metadata": {}
        },
        {
          "output_type": "stream",
          "name": "stdout",
          "text": [
            "1/1 [==============================] - 0s 26ms/step\n",
            "Raw Predictions: [[5.1771015e-01 9.3473401e-03 4.5779142e-10 3.3972165e-11 8.2454435e-04\n",
            "  7.9457413e-06 2.6167406e-02 9.5218502e-06 5.4476957e-12 9.5003161e-10\n",
            "  5.2764420e-07 6.5148743e-06 4.4435617e-01 2.3191505e-04 1.0870543e-03\n",
            "  4.5407844e-05 1.8871433e-04 4.2494827e-11 1.5337033e-08 3.1320233e-10\n",
            "  1.6592503e-05 8.9537622e-09 2.2130255e-10 1.8022972e-12 2.9604968e-10\n",
            "  2.5819167e-09 3.0375650e-11 4.4624704e-13 1.2543300e-07]]\n",
            "Predicted: A\n"
          ]
        },
        {
          "output_type": "display_data",
          "data": {
            "text/plain": [
              "<PIL.Image.Image image mode=RGB size=64x64>"
            ],
            "image/png": "[encoded data removed]"
          },
          "metadata": {}
        },
        {
          "output_type": "display_data",
          "data": {
            "text/plain": [
              "<IPython.core.display.Javascript object>"
            ],
            "application/javascript": [
              "\n",
              "        async function takePhoto(quality) {\n",
              "          const div = document.createElement('div');\n",
              "          const capture = document.createElement('button');\n",
              "          capture.textContent = 'Capture';\n",
              "          div.appendChild(capture);\n",
              "\n",
              "          const video = document.createElement('video');\n",
              "          video.style.display = 'block';\n",
              "          const stream = await navigator.mediaDevices.getUserMedia({ video: true });\n",
              "\n",
              "          document.body.appendChild(div);\n",
              "          div.appendChild(video);\n",
              "          video.srcObject = stream;\n",
              "          await video.play();\n",
              "\n",
              "          // Resize the output to fit the video element.\n",
              "          google.colab.output.setIframeHeight(document.documentElement.scrollHeight, true);\n",
              "\n",
              "          // Wait for Capture to be clicked.\n",
              "          await new Promise((resolve) => capture.onclick = resolve);\n",
              "\n",
              "          const canvas = document.createElement('canvas');\n",
              "          canvas.width = video.videoWidth;\n",
              "          canvas.height = video.videoHeight;\n",
              "          canvas.getContext('2d').drawImage(video, 0, 0);\n",
              "          stream.getVideoTracks()[0].stop();\n",
              "          div.remove();\n",
              "          return canvas.toDataURL('image/jpeg', quality);\n",
              "        }\n",
              "    "
            ]
          },
          "metadata": {}
        },
        {
          "output_type": "stream",
          "name": "stdout",
          "text": [
            "1/1 [==============================] - 0s 29ms/step\n",
            "Raw Predictions: [[1.4037240e-03 1.5419516e-07 2.7351910e-09 8.0608013e-05 3.8827458e-10\n",
            "  7.4608255e-07 1.5274824e-03 4.1743857e-01 4.2273185e-11 4.6042974e-06\n",
            "  2.1436321e-12 3.5837310e-08 5.7901579e-01 3.6733102e-08 1.3901030e-05\n",
            "  1.4049762e-04 3.7223688e-07 1.2312644e-11 3.0764398e-11 1.2490641e-07\n",
            "  5.0869792e-10 1.3135570e-15 2.4122541e-14 1.1277245e-12 1.0856880e-11\n",
            "  1.4879792e-10 5.9030764e-08 1.3014315e-12 3.7333614e-04]]\n",
            "Predicted: M\n"
          ]
        },
        {
          "output_type": "display_data",
          "data": {
            "text/plain": [
              "<PIL.Image.Image image mode=RGB size=64x64>"
            ],
            "image/png": "[encoded data removed]"
          },
          "metadata": {}
        },
        {
          "output_type": "display_data",
          "data": {
            "text/plain": [
              "<IPython.core.display.Javascript object>"
            ],
            "application/javascript": [
              "\n",
              "        async function takePhoto(quality) {\n",
              "          const div = document.createElement('div');\n",
              "          const capture = document.createElement('button');\n",
              "          capture.textContent = 'Capture';\n",
              "          div.appendChild(capture);\n",
              "\n",
              "          const video = document.createElement('video');\n",
              "          video.style.display = 'block';\n",
              "          const stream = await navigator.mediaDevices.getUserMedia({ video: true });\n",
              "\n",
              "          document.body.appendChild(div);\n",
              "          div.appendChild(video);\n",
              "          video.srcObject = stream;\n",
              "          await video.play();\n",
              "\n",
              "          // Resize the output to fit the video element.\n",
              "          google.colab.output.setIframeHeight(document.documentElement.scrollHeight, true);\n",
              "\n",
              "          // Wait for Capture to be clicked.\n",
              "          await new Promise((resolve) => capture.onclick = resolve);\n",
              "\n",
              "          const canvas = document.createElement('canvas');\n",
              "          canvas.width = video.videoWidth;\n",
              "          canvas.height = video.videoHeight;\n",
              "          canvas.getContext('2d').drawImage(video, 0, 0);\n",
              "          stream.getVideoTracks()[0].stop();\n",
              "          div.remove();\n",
              "          return canvas.toDataURL('image/jpeg', quality);\n",
              "        }\n",
              "    "
            ]
          },
          "metadata": {}
        },
        {
          "output_type": "stream",
          "name": "stdout",
          "text": [
            "1/1 [==============================] - 0s 34ms/step\n",
            "Raw Predictions: [[7.5959579e-06 1.0577244e-02 1.7500517e-08 2.1851666e-10 1.8961208e-10\n",
            "  2.3917144e-07 9.7948325e-01 2.7625865e-04 3.1025845e-11 1.1461336e-06\n",
            "  8.5080843e-15 7.3517752e-09 6.1261239e-03 1.8453522e-05 2.9647029e-07\n",
            "  1.3838650e-10 1.5128715e-12 4.5622485e-11 2.3158048e-14 4.0803758e-07\n",
            "  9.9063445e-06 5.7492662e-07 2.9045823e-06 5.7355283e-08 4.0221469e-08\n",
            "  6.7977882e-13 2.5188039e-13 3.9904418e-16 3.4953835e-03]]\n",
            "Predicted: G\n"
          ]
        },
        {
          "output_type": "display_data",
          "data": {
            "text/plain": [
              "<PIL.Image.Image image mode=RGB size=64x64>"
            ],
            "image/png": "[encoded data removed]"
          },
          "metadata": {}
        },
        {
          "output_type": "display_data",
          "data": {
            "text/plain": [
              "<IPython.core.display.Javascript object>"
            ],
            "application/javascript": [
              "\n",
              "        async function takePhoto(quality) {\n",
              "          const div = document.createElement('div');\n",
              "          const capture = document.createElement('button');\n",
              "          capture.textContent = 'Capture';\n",
              "          div.appendChild(capture);\n",
              "\n",
              "          const video = document.createElement('video');\n",
              "          video.style.display = 'block';\n",
              "          const stream = await navigator.mediaDevices.getUserMedia({ video: true });\n",
              "\n",
              "          document.body.appendChild(div);\n",
              "          div.appendChild(video);\n",
              "          video.srcObject = stream;\n",
              "          await video.play();\n",
              "\n",
              "          // Resize the output to fit the video element.\n",
              "          google.colab.output.setIframeHeight(document.documentElement.scrollHeight, true);\n",
              "\n",
              "          // Wait for Capture to be clicked.\n",
              "          await new Promise((resolve) => capture.onclick = resolve);\n",
              "\n",
              "          const canvas = document.createElement('canvas');\n",
              "          canvas.width = video.videoWidth;\n",
              "          canvas.height = video.videoHeight;\n",
              "          canvas.getContext('2d').drawImage(video, 0, 0);\n",
              "          stream.getVideoTracks()[0].stop();\n",
              "          div.remove();\n",
              "          return canvas.toDataURL('image/jpeg', quality);\n",
              "        }\n",
              "    "
            ]
          },
          "metadata": {}
        },
        {
          "output_type": "stream",
          "name": "stdout",
          "text": [
            "1/1 [==============================] - 0s 36ms/step\n",
            "Raw Predictions: [[1.0451214e-02 1.3473485e-01 1.9344514e-03 4.5514750e-04 1.1332438e-08\n",
            "  4.2920378e-06 4.6139602e-03 8.2314610e-01 1.0396336e-15 7.8723907e-09\n",
            "  1.1623062e-08 1.0270845e-04 4.5838815e-06 7.9820356e-10 1.2328182e-03\n",
            "  1.4227124e-02 2.0855764e-07 4.2607303e-11 1.0334882e-09 1.4616313e-08\n",
            "  9.0054385e-03 1.5066405e-07 2.4198144e-14 2.5110256e-07 1.2296281e-14\n",
            "  3.8098634e-08 4.9103509e-11 4.1323913e-11 8.6627129e-05]]\n",
            "Predicted: H\n"
          ]
        },
        {
          "output_type": "display_data",
          "data": {
            "text/plain": [
              "<PIL.Image.Image image mode=RGB size=64x64>"
            ],
            "image/png": "[encoded data removed]"
          },
          "metadata": {}
        },
        {
          "output_type": "display_data",
          "data": {
            "text/plain": [
              "<IPython.core.display.Javascript object>"
            ],
            "application/javascript": [
              "\n",
              "        async function takePhoto(quality) {\n",
              "          const div = document.createElement('div');\n",
              "          const capture = document.createElement('button');\n",
              "          capture.textContent = 'Capture';\n",
              "          div.appendChild(capture);\n",
              "\n",
              "          const video = document.createElement('video');\n",
              "          video.style.display = 'block';\n",
              "          const stream = await navigator.mediaDevices.getUserMedia({ video: true });\n",
              "\n",
              "          document.body.appendChild(div);\n",
              "          div.appendChild(video);\n",
              "          video.srcObject = stream;\n",
              "          await video.play();\n",
              "\n",
              "          // Resize the output to fit the video element.\n",
              "          google.colab.output.setIframeHeight(document.documentElement.scrollHeight, true);\n",
              "\n",
              "          // Wait for Capture to be clicked.\n",
              "          await new Promise((resolve) => capture.onclick = resolve);\n",
              "\n",
              "          const canvas = document.createElement('canvas');\n",
              "          canvas.width = video.videoWidth;\n",
              "          canvas.height = video.videoHeight;\n",
              "          canvas.getContext('2d').drawImage(video, 0, 0);\n",
              "          stream.getVideoTracks()[0].stop();\n",
              "          div.remove();\n",
              "          return canvas.toDataURL('image/jpeg', quality);\n",
              "        }\n",
              "    "
            ]
          },
          "metadata": {}
        },
        {
          "output_type": "stream",
          "name": "stdout",
          "text": [
            "1/1 [==============================] - 0s 26ms/step\n",
            "Raw Predictions: [[4.61041418e-05 1.49768468e-07 2.24664382e-06 2.73843198e-05\n",
            "  9.83591875e-10 4.75472916e-12 1.52154667e-09 2.27483770e-06\n",
            "  1.24952615e-14 3.23833495e-11 1.89785035e-10 1.84926046e-06\n",
            "  9.94583428e-01 7.96054422e-09 1.07772439e-06 7.12784589e-04\n",
            "  7.60660979e-11 2.47679282e-07 1.69300532e-04 6.47810028e-09\n",
            "  8.64045376e-07 4.09695818e-15 2.55611981e-12 4.87329274e-11\n",
            "  1.26825362e-12 2.10066787e-07 2.23126176e-06 1.81569214e-06\n",
            "  4.44808602e-03]]\n",
            "Predicted: M\n"
          ]
        },
        {
          "output_type": "display_data",
          "data": {
            "text/plain": [
              "<PIL.Image.Image image mode=RGB size=64x64>"
            ],
            "image/png": "[encoded data removed]"
          },
          "metadata": {}
        },
        {
          "output_type": "display_data",
          "data": {
            "text/plain": [
              "<IPython.core.display.Javascript object>"
            ],
            "application/javascript": [
              "\n",
              "        async function takePhoto(quality) {\n",
              "          const div = document.createElement('div');\n",
              "          const capture = document.createElement('button');\n",
              "          capture.textContent = 'Capture';\n",
              "          div.appendChild(capture);\n",
              "\n",
              "          const video = document.createElement('video');\n",
              "          video.style.display = 'block';\n",
              "          const stream = await navigator.mediaDevices.getUserMedia({ video: true });\n",
              "\n",
              "          document.body.appendChild(div);\n",
              "          div.appendChild(video);\n",
              "          video.srcObject = stream;\n",
              "          await video.play();\n",
              "\n",
              "          // Resize the output to fit the video element.\n",
              "          google.colab.output.setIframeHeight(document.documentElement.scrollHeight, true);\n",
              "\n",
              "          // Wait for Capture to be clicked.\n",
              "          await new Promise((resolve) => capture.onclick = resolve);\n",
              "\n",
              "          const canvas = document.createElement('canvas');\n",
              "          canvas.width = video.videoWidth;\n",
              "          canvas.height = video.videoHeight;\n",
              "          canvas.getContext('2d').drawImage(video, 0, 0);\n",
              "          stream.getVideoTracks()[0].stop();\n",
              "          div.remove();\n",
              "          return canvas.toDataURL('image/jpeg', quality);\n",
              "        }\n",
              "    "
            ]
          },
          "metadata": {}
        },
        {
          "output_type": "stream",
          "name": "stdout",
          "text": [
            "1/1 [==============================] - 0s 26ms/step\n",
            "Raw Predictions: [[9.3280555e-08 2.9519509e-08 6.5609256e-09 4.6112815e-11 3.8793132e-11\n",
            "  4.6416482e-10 7.8141703e-08 9.9988210e-01 1.8608564e-15 4.5539501e-12\n",
            "  3.4432401e-14 5.3521837e-10 1.2527704e-15 6.8287254e-17 2.6247532e-08\n",
            "  5.4300621e-05 1.4187077e-07 1.4572978e-14 6.2724411e-17 5.2642713e-07\n",
            "  1.3350602e-05 4.9287100e-05 5.7218770e-16 6.2645189e-12 4.4917697e-16\n",
            "  5.7716354e-10 4.8602788e-10 5.6067497e-18 1.9350285e-08]]\n",
            "Predicted: H\n"
          ]
        },
        {
          "output_type": "display_data",
          "data": {
            "text/plain": [
              "<PIL.Image.Image image mode=RGB size=64x64>"
            ],
            "image/png": "[encoded data removed]"
          },
          "metadata": {}
        },
        {
          "output_type": "display_data",
          "data": {
            "text/plain": [
              "<IPython.core.display.Javascript object>"
            ],
            "application/javascript": [
              "\n",
              "        async function takePhoto(quality) {\n",
              "          const div = document.createElement('div');\n",
              "          const capture = document.createElement('button');\n",
              "          capture.textContent = 'Capture';\n",
              "          div.appendChild(capture);\n",
              "\n",
              "          const video = document.createElement('video');\n",
              "          video.style.display = 'block';\n",
              "          const stream = await navigator.mediaDevices.getUserMedia({ video: true });\n",
              "\n",
              "          document.body.appendChild(div);\n",
              "          div.appendChild(video);\n",
              "          video.srcObject = stream;\n",
              "          await video.play();\n",
              "\n",
              "          // Resize the output to fit the video element.\n",
              "          google.colab.output.setIframeHeight(document.documentElement.scrollHeight, true);\n",
              "\n",
              "          // Wait for Capture to be clicked.\n",
              "          await new Promise((resolve) => capture.onclick = resolve);\n",
              "\n",
              "          const canvas = document.createElement('canvas');\n",
              "          canvas.width = video.videoWidth;\n",
              "          canvas.height = video.videoHeight;\n",
              "          canvas.getContext('2d').drawImage(video, 0, 0);\n",
              "          stream.getVideoTracks()[0].stop();\n",
              "          div.remove();\n",
              "          return canvas.toDataURL('image/jpeg', quality);\n",
              "        }\n",
              "    "
            ]
          },
          "metadata": {}
        },
        {
          "output_type": "stream",
          "name": "stdout",
          "text": [
            "1/1 [==============================] - 0s 27ms/step\n",
            "Raw Predictions: [[1.5755888e-02 1.2247636e-05 4.2892270e-07 3.8711747e-07 5.9418075e-05\n",
            "  4.5587978e-05 3.5072034e-04 2.1869574e-04 4.7703805e-05 5.9862421e-10\n",
            "  1.2839904e-07 1.5805257e-03 2.3402580e-09 5.0721454e-08 3.1290561e-01\n",
            "  9.1286001e-06 5.3852092e-04 1.1602952e-07 8.0189611e-10 8.5981619e-03\n",
            "  1.5517704e-01 1.9014066e-02 1.9326497e-11 2.1455382e-06 4.6572060e-12\n",
            "  4.8568153e-01 1.6752390e-06 1.3021217e-10 1.5281232e-07]]\n",
            "Predicted: Z\n"
          ]
        },
        {
          "output_type": "display_data",
          "data": {
            "text/plain": [
              "<PIL.Image.Image image mode=RGB size=64x64>"
            ],
            "image/png": "[encoded data removed]"
          },
          "metadata": {}
        },
        {
          "output_type": "display_data",
          "data": {
            "text/plain": [
              "<IPython.core.display.Javascript object>"
            ],
            "application/javascript": [
              "\n",
              "        async function takePhoto(quality) {\n",
              "          const div = document.createElement('div');\n",
              "          const capture = document.createElement('button');\n",
              "          capture.textContent = 'Capture';\n",
              "          div.appendChild(capture);\n",
              "\n",
              "          const video = document.createElement('video');\n",
              "          video.style.display = 'block';\n",
              "          const stream = await navigator.mediaDevices.getUserMedia({ video: true });\n",
              "\n",
              "          document.body.appendChild(div);\n",
              "          div.appendChild(video);\n",
              "          video.srcObject = stream;\n",
              "          await video.play();\n",
              "\n",
              "          // Resize the output to fit the video element.\n",
              "          google.colab.output.setIframeHeight(document.documentElement.scrollHeight, true);\n",
              "\n",
              "          // Wait for Capture to be clicked.\n",
              "          await new Promise((resolve) => capture.onclick = resolve);\n",
              "\n",
              "          const canvas = document.createElement('canvas');\n",
              "          canvas.width = video.videoWidth;\n",
              "          canvas.height = video.videoHeight;\n",
              "          canvas.getContext('2d').drawImage(video, 0, 0);\n",
              "          stream.getVideoTracks()[0].stop();\n",
              "          div.remove();\n",
              "          return canvas.toDataURL('image/jpeg', quality);\n",
              "        }\n",
              "    "
            ]
          },
          "metadata": {}
        },
        {
          "output_type": "stream",
          "name": "stdout",
          "text": [
            "1/1 [==============================] - 0s 26ms/step\n",
            "Raw Predictions: [[3.4381679e-01 2.4392452e-10 3.8667717e-05 4.4836383e-09 3.6592283e-03\n",
            "  4.8873090e-04 8.5088005e-04 1.1117778e-06 1.2486667e-09 2.7803749e-11\n",
            "  5.3697962e-09 4.6858113e-02 4.4984940e-08 7.6090248e-07 8.7785311e-03\n",
            "  5.8912724e-01 6.0174926e-03 2.6525957e-08 1.3637056e-12 3.4871409e-04\n",
            "  1.7781144e-06 1.2019700e-09 8.8510609e-18 1.4354463e-11 9.1701574e-15\n",
            "  1.1608969e-05 2.7425972e-07 1.4722137e-11 1.3677630e-10]]\n",
            "Predicted: P\n"
          ]
        },
        {
          "output_type": "display_data",
          "data": {
            "text/plain": [
              "<PIL.Image.Image image mode=RGB size=64x64>"
            ],
            "image/png": "[encoded data removed]"
          },
          "metadata": {}
        },
        {
          "output_type": "display_data",
          "data": {
            "text/plain": [
              "<IPython.core.display.Javascript object>"
            ],
            "application/javascript": [
              "\n",
              "        async function takePhoto(quality) {\n",
              "          const div = document.createElement('div');\n",
              "          const capture = document.createElement('button');\n",
              "          capture.textContent = 'Capture';\n",
              "          div.appendChild(capture);\n",
              "\n",
              "          const video = document.createElement('video');\n",
              "          video.style.display = 'block';\n",
              "          const stream = await navigator.mediaDevices.getUserMedia({ video: true });\n",
              "\n",
              "          document.body.appendChild(div);\n",
              "          div.appendChild(video);\n",
              "          video.srcObject = stream;\n",
              "          await video.play();\n",
              "\n",
              "          // Resize the output to fit the video element.\n",
              "          google.colab.output.setIframeHeight(document.documentElement.scrollHeight, true);\n",
              "\n",
              "          // Wait for Capture to be clicked.\n",
              "          await new Promise((resolve) => capture.onclick = resolve);\n",
              "\n",
              "          const canvas = document.createElement('canvas');\n",
              "          canvas.width = video.videoWidth;\n",
              "          canvas.height = video.videoHeight;\n",
              "          canvas.getContext('2d').drawImage(video, 0, 0);\n",
              "          stream.getVideoTracks()[0].stop();\n",
              "          div.remove();\n",
              "          return canvas.toDataURL('image/jpeg', quality);\n",
              "        }\n",
              "    "
            ]
          },
          "metadata": {}
        },
        {
          "output_type": "stream",
          "name": "stdout",
          "text": [
            "1/1 [==============================] - 0s 27ms/step\n",
            "Raw Predictions: [[4.7927319e-05 5.0937462e-07 7.5013648e-11 6.6730048e-09 6.6899415e-09\n",
            "  6.0518675e-02 6.6577115e-05 5.4911277e-03 1.7693748e-05 1.3370679e-08\n",
            "  1.1321944e-09 3.5921683e-09 6.7232875e-04 7.7707952e-08 7.8142263e-02\n",
            "  4.8973798e-05 8.5498619e-01 1.4773558e-09 1.3261933e-10 3.2261741e-07\n",
            "  5.4618138e-10 8.7529185e-12 2.0344407e-13 7.5703904e-10 1.2568330e-08\n",
            "  2.8300033e-06 1.1339521e-06 2.4209415e-12 3.2717908e-06]]\n",
            "Predicted: Q\n"
          ]
        },
        {
          "output_type": "display_data",
          "data": {
            "text/plain": [
              "<PIL.Image.Image image mode=RGB size=64x64>"
            ],
            "image/png": "[encoded data removed]"
          },
          "metadata": {}
        },
        {
          "output_type": "display_data",
          "data": {
            "text/plain": [
              "<IPython.core.display.Javascript object>"
            ],
            "application/javascript": [
              "\n",
              "        async function takePhoto(quality) {\n",
              "          const div = document.createElement('div');\n",
              "          const capture = document.createElement('button');\n",
              "          capture.textContent = 'Capture';\n",
              "          div.appendChild(capture);\n",
              "\n",
              "          const video = document.createElement('video');\n",
              "          video.style.display = 'block';\n",
              "          const stream = await navigator.mediaDevices.getUserMedia({ video: true });\n",
              "\n",
              "          document.body.appendChild(div);\n",
              "          div.appendChild(video);\n",
              "          video.srcObject = stream;\n",
              "          await video.play();\n",
              "\n",
              "          // Resize the output to fit the video element.\n",
              "          google.colab.output.setIframeHeight(document.documentElement.scrollHeight, true);\n",
              "\n",
              "          // Wait for Capture to be clicked.\n",
              "          await new Promise((resolve) => capture.onclick = resolve);\n",
              "\n",
              "          const canvas = document.createElement('canvas');\n",
              "          canvas.width = video.videoWidth;\n",
              "          canvas.height = video.videoHeight;\n",
              "          canvas.getContext('2d').drawImage(video, 0, 0);\n",
              "          stream.getVideoTracks()[0].stop();\n",
              "          div.remove();\n",
              "          return canvas.toDataURL('image/jpeg', quality);\n",
              "        }\n",
              "    "
            ]
          },
          "metadata": {}
        },
        {
          "output_type": "stream",
          "name": "stdout",
          "text": [
            "1/1 [==============================] - 0s 28ms/step\n",
            "Raw Predictions: [[3.3737535e-05 3.6826344e-09 1.5891218e-17 3.0279709e-12 3.2755905e-09\n",
            "  1.3624146e-04 7.7598220e-01 2.2338271e-01 5.8005351e-11 3.8765186e-10\n",
            "  1.3867260e-13 8.6559986e-08 3.0347320e-07 4.8819532e-10 4.6427327e-04\n",
            "  8.7642576e-08 7.8563275e-08 4.4996121e-17 1.2464425e-22 2.4163657e-07\n",
            "  2.8944079e-15 1.2955426e-09 7.6676323e-16 7.6892418e-18 5.8130135e-16\n",
            "  1.0349034e-14 5.1513657e-14 1.2137318e-25 6.5744084e-15]]\n",
            "Predicted: G\n"
          ]
        },
        {
          "output_type": "display_data",
          "data": {
            "text/plain": [
              "<PIL.Image.Image image mode=RGB size=64x64>"
            ],
            "image/png": "[encoded data removed]"
          },
          "metadata": {}
        },
        {
          "output_type": "display_data",
          "data": {
            "text/plain": [
              "<IPython.core.display.Javascript object>"
            ],
            "application/javascript": [
              "\n",
              "        async function takePhoto(quality) {\n",
              "          const div = document.createElement('div');\n",
              "          const capture = document.createElement('button');\n",
              "          capture.textContent = 'Capture';\n",
              "          div.appendChild(capture);\n",
              "\n",
              "          const video = document.createElement('video');\n",
              "          video.style.display = 'block';\n",
              "          const stream = await navigator.mediaDevices.getUserMedia({ video: true });\n",
              "\n",
              "          document.body.appendChild(div);\n",
              "          div.appendChild(video);\n",
              "          video.srcObject = stream;\n",
              "          await video.play();\n",
              "\n",
              "          // Resize the output to fit the video element.\n",
              "          google.colab.output.setIframeHeight(document.documentElement.scrollHeight, true);\n",
              "\n",
              "          // Wait for Capture to be clicked.\n",
              "          await new Promise((resolve) => capture.onclick = resolve);\n",
              "\n",
              "          const canvas = document.createElement('canvas');\n",
              "          canvas.width = video.videoWidth;\n",
              "          canvas.height = video.videoHeight;\n",
              "          canvas.getContext('2d').drawImage(video, 0, 0);\n",
              "          stream.getVideoTracks()[0].stop();\n",
              "          div.remove();\n",
              "          return canvas.toDataURL('image/jpeg', quality);\n",
              "        }\n",
              "    "
            ]
          },
          "metadata": {}
        },
        {
          "output_type": "error",
          "ename": "KeyboardInterrupt",
          "evalue": "",
          "traceback": [
            "\u001b[0;31m---------------------------------------------------------------------------\u001b[0m",
            "\u001b[0;31mKeyboardInterrupt\u001b[0m                         Traceback (most recent call last)",
            "\u001b[0;32m<ipython-input-33-392df40fdff3>\u001b[0m in \u001b[0;36m<cell line: 66>\u001b[0;34m()\u001b[0m\n\u001b[1;32m     67\u001b[0m     \u001b[0;31m# Capture a frame from the camera or a photo\u001b[0m\u001b[0;34m\u001b[0m\u001b[0;34m\u001b[0m\u001b[0m\n\u001b[1;32m     68\u001b[0m     \u001b[0;32mtry\u001b[0m\u001b[0;34m:\u001b[0m\u001b[0;34m\u001b[0m\u001b[0;34m\u001b[0m\u001b[0m\n\u001b[0;32m---> 69\u001b[0;31m         \u001b[0mframe\u001b[0m \u001b[0;34m=\u001b[0m \u001b[0mtake_photo\u001b[0m\u001b[0;34m(\u001b[0m\u001b[0;34m)\u001b[0m\u001b[0;34m\u001b[0m\u001b[0;34m\u001b[0m\u001b[0m\n\u001b[0m\u001b[1;32m     70\u001b[0m     \u001b[0;32mexcept\u001b[0m \u001b[0mException\u001b[0m \u001b[0;32mas\u001b[0m \u001b[0me\u001b[0m\u001b[0;34m:\u001b[0m\u001b[0;34m\u001b[0m\u001b[0;34m\u001b[0m\u001b[0m\n\u001b[1;32m     71\u001b[0m         \u001b[0mprint\u001b[0m\u001b[0;34m(\u001b[0m\u001b[0;34mf\"Error capturing photo: {e}\"\u001b[0m\u001b[0;34m)\u001b[0m\u001b[0;34m\u001b[0m\u001b[0;34m\u001b[0m\u001b[0m\n",
            "\u001b[0;32m<ipython-input-33-392df40fdff3>\u001b[0m in \u001b[0;36mtake_photo\u001b[0;34m(quality)\u001b[0m\n\u001b[1;32m     41\u001b[0m     ''')\n\u001b[1;32m     42\u001b[0m     \u001b[0mdisplay\u001b[0m\u001b[0;34m(\u001b[0m\u001b[0mjs\u001b[0m\u001b[0;34m)\u001b[0m\u001b[0;34m\u001b[0m\u001b[0;34m\u001b[0m\u001b[0m\n\u001b[0;32m---> 43\u001b[0;31m     \u001b[0mdata\u001b[0m \u001b[0;34m=\u001b[0m \u001b[0meval_js\u001b[0m\u001b[0;34m(\u001b[0m\u001b[0;34m'takePhoto({})'\u001b[0m\u001b[0;34m.\u001b[0m\u001b[0mformat\u001b[0m\u001b[0;34m(\u001b[0m\u001b[0mquality\u001b[0m\u001b[0;34m)\u001b[0m\u001b[0;34m)\u001b[0m\u001b[0;34m\u001b[0m\u001b[0;34m\u001b[0m\u001b[0m\n\u001b[0m\u001b[1;32m     44\u001b[0m     \u001b[0mbinary\u001b[0m \u001b[0;34m=\u001b[0m \u001b[0mb64decode\u001b[0m\u001b[0;34m(\u001b[0m\u001b[0mdata\u001b[0m\u001b[0;34m.\u001b[0m\u001b[0msplit\u001b[0m\u001b[0;34m(\u001b[0m\u001b[0;34m','\u001b[0m\u001b[0;34m)\u001b[0m\u001b[0;34m[\u001b[0m\u001b[0;36m1\u001b[0m\u001b[0;34m]\u001b[0m\u001b[0;34m)\u001b[0m\u001b[0;34m\u001b[0m\u001b[0;34m\u001b[0m\u001b[0m\n\u001b[1;32m     45\u001b[0m     \u001b[0mimage\u001b[0m \u001b[0;34m=\u001b[0m \u001b[0mcv2\u001b[0m\u001b[0;34m.\u001b[0m\u001b[0mimdecode\u001b[0m\u001b[0;34m(\u001b[0m\u001b[0mnp\u001b[0m\u001b[0;34m.\u001b[0m\u001b[0mfrombuffer\u001b[0m\u001b[0;34m(\u001b[0m\u001b[0mbinary\u001b[0m\u001b[0;34m,\u001b[0m \u001b[0mdtype\u001b[0m\u001b[0;34m=\u001b[0m\u001b[0mnp\u001b[0m\u001b[0;34m.\u001b[0m\u001b[0muint8\u001b[0m\u001b[0;34m)\u001b[0m\u001b[0;34m,\u001b[0m \u001b[0;34m-\u001b[0m\u001b[0;36m1\u001b[0m\u001b[0;34m)\u001b[0m\u001b[0;34m\u001b[0m\u001b[0;34m\u001b[0m\u001b[0m\n",
            "\u001b[0;32m/usr/local/lib/python3.10/dist-packages/google/colab/output/_js.py\u001b[0m in \u001b[0;36meval_js\u001b[0;34m(script, ignore_result, timeout_sec)\u001b[0m\n\u001b[1;32m     38\u001b[0m   \u001b[0;32mif\u001b[0m \u001b[0mignore_result\u001b[0m\u001b[0;34m:\u001b[0m\u001b[0;34m\u001b[0m\u001b[0;34m\u001b[0m\u001b[0m\n\u001b[1;32m     39\u001b[0m     \u001b[0;32mreturn\u001b[0m\u001b[0;34m\u001b[0m\u001b[0;34m\u001b[0m\u001b[0m\n\u001b[0;32m---> 40\u001b[0;31m   \u001b[0;32mreturn\u001b[0m \u001b[0m_message\u001b[0m\u001b[0;34m.\u001b[0m\u001b[0mread_reply_from_input\u001b[0m\u001b[0;34m(\u001b[0m\u001b[0mrequest_id\u001b[0m\u001b[0;34m,\u001b[0m \u001b[0mtimeout_sec\u001b[0m\u001b[0;34m)\u001b[0m\u001b[0;34m\u001b[0m\u001b[0;34m\u001b[0m\u001b[0m\n\u001b[0m\u001b[1;32m     41\u001b[0m \u001b[0;34m\u001b[0m\u001b[0m\n\u001b[1;32m     42\u001b[0m \u001b[0;34m\u001b[0m\u001b[0m\n",
            "\u001b[0;32m/usr/local/lib/python3.10/dist-packages/google/colab/_message.py\u001b[0m in \u001b[0;36mread_reply_from_input\u001b[0;34m(message_id, timeout_sec)\u001b[0m\n\u001b[1;32m     94\u001b[0m     \u001b[0mreply\u001b[0m \u001b[0;34m=\u001b[0m \u001b[0m_read_next_input_message\u001b[0m\u001b[0;34m(\u001b[0m\u001b[0;34m)\u001b[0m\u001b[0;34m\u001b[0m\u001b[0;34m\u001b[0m\u001b[0m\n\u001b[1;32m     95\u001b[0m     \u001b[0;32mif\u001b[0m \u001b[0mreply\u001b[0m \u001b[0;34m==\u001b[0m \u001b[0m_NOT_READY\u001b[0m \u001b[0;32mor\u001b[0m \u001b[0;32mnot\u001b[0m \u001b[0misinstance\u001b[0m\u001b[0;34m(\u001b[0m\u001b[0mreply\u001b[0m\u001b[0;34m,\u001b[0m \u001b[0mdict\u001b[0m\u001b[0;34m)\u001b[0m\u001b[0;34m:\u001b[0m\u001b[0;34m\u001b[0m\u001b[0;34m\u001b[0m\u001b[0m\n\u001b[0;32m---> 96\u001b[0;31m       \u001b[0mtime\u001b[0m\u001b[0;34m.\u001b[0m\u001b[0msleep\u001b[0m\u001b[0;34m(\u001b[0m\u001b[0;36m0.025\u001b[0m\u001b[0;34m)\u001b[0m\u001b[0;34m\u001b[0m\u001b[0;34m\u001b[0m\u001b[0m\n\u001b[0m\u001b[1;32m     97\u001b[0m       \u001b[0;32mcontinue\u001b[0m\u001b[0;34m\u001b[0m\u001b[0;34m\u001b[0m\u001b[0m\n\u001b[1;32m     98\u001b[0m     if (\n",
            "\u001b[0;31mKeyboardInterrupt\u001b[0m: "
          ]
        }
      ]
    },
    {
      "cell_type": "markdown",
      "source": [
        "# New Section"
      ],
      "metadata": {
        "id": "U0DbyKo6Y907"
      }
    }
  ]
}